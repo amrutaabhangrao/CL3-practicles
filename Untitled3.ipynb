{
 "cells": [
  {
   "cell_type": "code",
   "execution_count": 1,
   "id": "cdc5f894-fcd8-4bfd-8e3b-777ee2fdb183",
   "metadata": {},
   "outputs": [],
   "source": [
    "##Hotel interface"
   ]
  },
  {
   "cell_type": "code",
   "execution_count": null,
   "id": "88c5588f-586c-4852-8e28-f6c01260707e",
   "metadata": {},
   "outputs": [],
   "source": [
    "import java.rmi.*;\n",
    "\n",
    "public interface HotelInterface extends Remote {\n",
    "    String bookRoom(String guestName) throws RemoteException;\n",
    "    String cancelBooking(String guestName) throws RemoteException;\n",
    "}"
   ]
  },
  {
   "cell_type": "code",
   "execution_count": 3,
   "id": "a9f5b6ba-be9c-4ae8-99c2-0b515dd6f306",
   "metadata": {},
   "outputs": [],
   "source": [
    "##Hotel Server"
   ]
  },
  {
   "cell_type": "code",
   "execution_count": null,
   "id": "e794b61f-2c57-4ceb-afea-3c717bbe2900",
   "metadata": {},
   "outputs": [],
   "source": [
    "import java.rmi.*;\n",
    "import java.rmi.registry.LocateRegistry;\n",
    "import java.rmi.server.UnicastRemoteObject;\n",
    "import java.util.HashMap;\n",
    "\n",
    "// Interface implementation is embedded here\n",
    "public class HotelServer extends UnicastRemoteObject implements HotelInterface {\n",
    "    private HashMap<String, String> bookings;\n",
    "\n",
    "    public HotelServer() throws RemoteException {\n",
    "        bookings = new HashMap<>();\n",
    "    }\n",
    "\n",
    "    public synchronized String bookRoom(String guestName) throws RemoteException {\n",
    "        if (bookings.containsKey(guestName)) {\n",
    "            return \"Guest \" + guestName + \" already has a booking.\";\n",
    "        } else {\n",
    "            bookings.put(guestName, \"Booked\");\n",
    "            return \"Room booked for \" + guestName;\n",
    "        }\n",
    "    }\n",
    "\n",
    "    public synchronized String cancelBooking(String guestName) throws RemoteException {\n",
    "        if (bookings.containsKey(guestName)) {\n",
    "            bookings.remove(guestName);\n",
    "            return \"Booking cancelled for \" + guestName;\n",
    "        } else {\n",
    "            return \"No booking found for \" + guestName;\n",
    "        }\n",
    "    }\n",
    "\n",
    "    public static void main(String[] args) {\n",
    "        try {\n",
    "            LocateRegistry.createRegistry(1099); // Start RMI Registry\n",
    "            HotelServer hotel = new HotelServer(); // Create object\n",
    "            Naming.rebind(\"HotelService\", hotel); // Bind to registry\n",
    "            System.out.println(\"Hotel Server is ready...\");\n",
    "        } catch (Exception e) {\n",
    "            System.out.println(\"Server Exception: \" + e.getMessage());\n",
    "            e.printStackTrace();\n",
    "        }\n",
    "    }\n",
    "}"
   ]
  },
  {
   "cell_type": "code",
   "execution_count": 5,
   "id": "0989a327-df1e-420a-9aac-b6d867bee49a",
   "metadata": {},
   "outputs": [],
   "source": [
    "##Hotel client"
   ]
  },
  {
   "cell_type": "code",
   "execution_count": null,
   "id": "d1183342-0f80-4957-ad6b-af8b07e5b771",
   "metadata": {},
   "outputs": [],
   "source": [
    "import java.rmi.Naming;\n",
    "import java.util.Scanner;\n",
    "\n",
    "public class HotelClient {\n",
    "    public static void main(String[] args) {\n",
    "        try {\n",
    "            HotelInterface hotel = (HotelInterface) Naming.lookup(\"rmi://localhost/HotelService\");\n",
    "            Scanner scanner = new Scanner(System.in);\n",
    "            int choice;\n",
    "\n",
    "            do {\n",
    "                System.out.println(\"\\n=== Hotel Booking System ===\");\n",
    "                System.out.println(\"1. Book a Room\");\n",
    "                System.out.println(\"2. Cancel Booking\");\n",
    "                System.out.println(\"3. Exit\");\n",
    "                System.out.print(\"Enter your choice: \");\n",
    "                choice = scanner.nextInt();\n",
    "                scanner.nextLine(); // consume newline\n",
    "\n",
    "                switch (choice) {\n",
    "                    case 1:\n",
    "                        System.out.print(\"Enter guest name to book: \");\n",
    "                        String nameToBook = scanner.nextLine();\n",
    "                        System.out.println(hotel.bookRoom(nameToBook));\n",
    "                        break;\n",
    "\n",
    "                    case 2:\n",
    "                        System.out.print(\"Enter guest name to cancel: \");\n",
    "                        String nameToCancel = scanner.nextLine();\n",
    "                        System.out.println(hotel.cancelBooking(nameToCancel));\n",
    "                        break;\n",
    "\n",
    "                    case 3:\n",
    "                        System.out.println(\"Exiting... Goodbye!\");\n",
    "                        break;\n",
    "\n",
    "                    default:\n",
    "                        System.out.println(\"Invalid choice.\");\n",
    "                }\n",
    "\n",
    "            } while (choice != 3);\n",
    "\n",
    "            scanner.close();\n",
    "\n",
    "        } catch (Exception e) {\n",
    "            System.out.println(\"Client Exception: \" + e.getMessage());\n",
    "            e.printStackTrace();\n",
    "        }\n",
    "    }\n",
    "}"
   ]
  }
 ],
 "metadata": {
  "kernelspec": {
   "display_name": "Python 3 (ipykernel)",
   "language": "python",
   "name": "python3"
  },
  "language_info": {
   "codemirror_mode": {
    "name": "ipython",
    "version": 3
   },
   "file_extension": ".py",
   "mimetype": "text/x-python",
   "name": "python",
   "nbconvert_exporter": "python",
   "pygments_lexer": "ipython3",
   "version": "3.12.4"
  }
 },
 "nbformat": 4,
 "nbformat_minor": 5
}
